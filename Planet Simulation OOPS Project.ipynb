{
 "cells": [
  {
   "cell_type": "code",
   "execution_count": 1,
   "source": [
    "conda install -c cogsci pygame"
   ],
   "outputs": [
    {
     "output_type": "stream",
     "name": "stdout",
     "text": [
      "Collecting package metadata (current_repodata.json): done\n",
      "Solving environment: failed with initial frozen solve. Retrying with flexible solve.\n",
      "Solving environment: failed with repodata from current_repodata.json, will retry with next repodata source.\n",
      "Collecting package metadata (repodata.json): done\n",
      "Solving environment: failed with initial frozen solve. Retrying with flexible solve.\n",
      "Solving environment: / \n",
      "Found conflicts! Looking for incompatible packages.\n",
      "This can take several minutes.  Press CTRL-C to abort.\n",
      "                                                                               failed\n",
      "\n",
      "UnsatisfiableError: The following specifications were found\n",
      "to be incompatible with the existing python installation in your environment:\n",
      "\n",
      "Specifications:\n",
      "\n",
      "  - pygame -> python[version='2.7.*|3.5.*']\n",
      "\n",
      "Your python: python=3.8\n",
      "\n",
      "If python is on the left-most side of the chain, that's the version you've asked for.\n",
      "When python appears to the right, that indicates that the thing on the left is somehow\n",
      "not available for the python version you are constrained to. Note that conda will not\n",
      "change your python version to a different minor version unless you explicitly specify\n",
      "that.\n",
      "\n",
      "\n",
      "\n",
      "\n",
      "Note: you may need to restart the kernel to use updated packages.\n"
     ]
    }
   ],
   "metadata": {}
  },
  {
   "cell_type": "code",
   "execution_count": 1,
   "source": [
    "import pygame"
   ],
   "outputs": [
    {
     "output_type": "error",
     "ename": "ModuleNotFoundError",
     "evalue": "No module named 'pygame'",
     "traceback": [
      "\u001b[0;31m---------------------------------------------------------------------------\u001b[0m",
      "\u001b[0;31mModuleNotFoundError\u001b[0m                       Traceback (most recent call last)",
      "\u001b[0;32m<ipython-input-1-671b35b41eba>\u001b[0m in \u001b[0;36m<module>\u001b[0;34m\u001b[0m\n\u001b[0;32m----> 1\u001b[0;31m \u001b[0;32mimport\u001b[0m \u001b[0mpygame\u001b[0m\u001b[0;34m\u001b[0m\u001b[0;34m\u001b[0m\u001b[0m\n\u001b[0m",
      "\u001b[0;31mModuleNotFoundError\u001b[0m: No module named 'pygame'"
     ]
    }
   ],
   "metadata": {}
  },
  {
   "cell_type": "code",
   "execution_count": 2,
   "source": [
    "!pip --version"
   ],
   "outputs": [
    {
     "output_type": "stream",
     "name": "stdout",
     "text": [
      "pip 21.2.4 from /Users/neerajkondaveeti/opt/anaconda3/lib/python3.8/site-packages/pip (python 3.8)\r\n"
     ]
    }
   ],
   "metadata": {}
  },
  {
   "cell_type": "code",
   "execution_count": 3,
   "source": [
    "!pip install pygame"
   ],
   "outputs": [
    {
     "output_type": "stream",
     "name": "stdout",
     "text": [
      "Collecting pygame\n",
      "  Downloading pygame-2.1.2-cp38-cp38-macosx_10_9_x86_64.whl (8.9 MB)\n",
      "\u001b[K     |████████████████████████████████| 8.9 MB 2.0 MB/s eta 0:00:01\n",
      "\u001b[?25hInstalling collected packages: pygame\n",
      "Successfully installed pygame-2.1.2\n",
      "\u001b[33mWARNING: You are using pip version 21.2.4; however, version 22.0.4 is available.\n",
      "You should consider upgrading via the '/Users/neerajkondaveeti/opt/anaconda3/bin/python -m pip install --upgrade pip' command.\u001b[0m\n"
     ]
    }
   ],
   "metadata": {}
  },
  {
   "cell_type": "code",
   "execution_count": 1,
   "source": [
    "!pip install pygame"
   ],
   "outputs": [
    {
     "output_type": "stream",
     "name": "stdout",
     "text": [
      "Traceback (most recent call last):\r\n",
      "  File \"/Users/neerajkondaveeti/opt/anaconda3/bin/pip\", line 5, in <module>\r\n",
      "    from pip._internal.cli.main import main\r\n",
      "  File \"/Users/neerajkondaveeti/opt/anaconda3/lib/python3.8/site-packages/pip/_internal/cli/main.py\", line 10, in <module>\r\n",
      "    from pip._internal.cli.autocompletion import autocomplete\r\n",
      "  File \"/Users/neerajkondaveeti/opt/anaconda3/lib/python3.8/site-packages/pip/_internal/cli/autocompletion.py\", line 10, in <module>\r\n",
      "    from pip._internal.cli.main_parser import create_main_parser\r\n",
      "  File \"/Users/neerajkondaveeti/opt/anaconda3/lib/python3.8/site-packages/pip/_internal/cli/main_parser.py\", line 9, in <module>\r\n",
      "    from pip._internal.build_env import get_runnable_pip\r\n",
      "  File \"/Users/neerajkondaveeti/opt/anaconda3/lib/python3.8/site-packages/pip/_internal/build_env.py\", line 19, in <module>\r\n",
      "    from pip._internal.cli.spinners import open_spinner\r\n",
      "  File \"/Users/neerajkondaveeti/opt/anaconda3/lib/python3.8/site-packages/pip/_internal/cli/spinners.py\", line 9, in <module>\r\n",
      "    from pip._internal.utils.logging import get_indentation\r\n",
      "  File \"/Users/neerajkondaveeti/opt/anaconda3/lib/python3.8/site-packages/pip/_internal/utils/logging.py\", line 13, in <module>\r\n",
      "    from pip._vendor.rich.console import (\r\n",
      "  File \"/Users/neerajkondaveeti/opt/anaconda3/lib/python3.8/site-packages/pip/_vendor/rich/console.py\", line 51, in <module>\r\n",
      "    from ._log_render import FormatTimeCallable, LogRender\r\n",
      "  File \"/Users/neerajkondaveeti/opt/anaconda3/lib/python3.8/site-packages/pip/_vendor/rich/_log_render.py\", line 5, in <module>\r\n",
      "    from .text import Text, TextType\r\n",
      "  File \"/Users/neerajkondaveeti/opt/anaconda3/lib/python3.8/site-packages/pip/_vendor/rich/text.py\", line 21, in <module>\r\n",
      "    from .align import AlignMethod\r\n",
      "  File \"/Users/neerajkondaveeti/opt/anaconda3/lib/python3.8/site-packages/pip/_vendor/rich/align.py\", line 10, in <module>\r\n",
      "    from .constrain import Constrain\r\n",
      "  File \"/Users/neerajkondaveeti/opt/anaconda3/lib/python3.8/site-packages/pip/_vendor/rich/constrain.py\", line 3, in <module>\r\n",
      "    from .jupyter import JupyterMixin\r\n",
      "ImportError: cannot import name 'JupyterMixin' from 'pip._vendor.rich.jupyter' (/Users/neerajkondaveeti/opt/anaconda3/lib/python3.8/site-packages/pip/_vendor/rich/jupyter.py)\r\n"
     ]
    }
   ],
   "metadata": {}
  },
  {
   "cell_type": "code",
   "execution_count": 2,
   "source": [
    "import pygame\n",
    "import math\n",
    "\n",
    "pygame.init()\n",
    "\n",
    "WIDTH, HEIGHT = 800, 800\n",
    "WIN = pygame.display.set_mode((WIDTH, HEIGHT))\n",
    "pygame.display.set_caption(\"Planet Simulation\")\n",
    "\n",
    "WHITE = (255, 255, 255)\n",
    "YELLOW = (255, 255, 0)\n",
    "BLUE = (100, 149, 237)\n",
    "RED = (188, 39, 50)\n",
    "DARK_GREY = (80, 78, 81)\n",
    "\n",
    "FONT = pygame.font.SysFont(\"comicsans\", 16)\n",
    "\n",
    "\n",
    "class Planet():\n",
    "    AU = 149.6e6 * 1000  # astronomical units(distance between sun and earth approx)\n",
    "    G = 6.67428e-11  # gravity\n",
    "    SCALE = 250 / AU  # 1AU = 100 pixels\n",
    "    TIMESTEP = 3600 * 24  # 1 day\n",
    "\n",
    "    def __init__(self, x, y, radius, color, mass):\n",
    "        self.x = x\n",
    "        self.y = y\n",
    "        self.radius = radius\n",
    "        self.color = color\n",
    "        self.mass = mass\n",
    "\n",
    "        self.orbit = []\n",
    "        self.sun = False\n",
    "        self.distance_to_sun = 0\n",
    "\n",
    "        self.x_vel = 0\n",
    "        self.y_vel = 0\n",
    "\n",
    "    def draw(self, win):\n",
    "        x = self.x * self.SCALE + WIDTH / 2\n",
    "        y = self.y * self.SCALE + HEIGHT / 2\n",
    "\n",
    "        if len(self.orbit) > 2:\n",
    "            updated_points = []\n",
    "            for point in self.orbit:\n",
    "                x, y = point\n",
    "                x = x * self.SCALE + WIDTH / 2\n",
    "                y = y * self.SCALE + HEIGHT / 2\n",
    "                updated_points.append((x, y))\n",
    "\n",
    "            pygame.draw.lines(win, self.color, False, updated_points, 2)\n",
    "\n",
    "        pygame.draw.circle(win, self.color, (x, y), self.radius)\n",
    "\n",
    "        if not self.sun:\n",
    "            distance_text = FONT.render(f\"{round(self.distance_to_sun / 1000, 1)}km\", 1, WHITE)\n",
    "            win.blit(distance_text, (x - distance_text.get_width() / 2, y - distance_text.get_height() / 2))\n",
    "\n",
    "    def attraction(self, other):\n",
    "        other_x, other_y = other.x, other.y\n",
    "        distance_x = other_x - self.x\n",
    "        distance_y = other_y - self.y\n",
    "        distance = math.sqrt(distance_x ** 2 + distance_y ** 2)\n",
    "\n",
    "        if other.sun:\n",
    "            self.distance_to_sun = distance\n",
    "\n",
    "        force = self.G * self.mass * other.mass / distance**2\n",
    "        theta = math.atan2(distance_y, distance_x)\n",
    "        force_x = math.cos(theta) * force\n",
    "        force_y = math.sin(theta) * force\n",
    "        return force_x, force_y\n",
    "\n",
    "    def update_position(self, planets):\n",
    "        total_fx = total_fy = 0\n",
    "        for planet in planets:\n",
    "            if self == planet:\n",
    "                continue\n",
    "\n",
    "            fx, fy = self.attraction(planet)\n",
    "            total_fx += fx\n",
    "            total_fy += fy\n",
    "\n",
    "        self.x_vel += total_fx / self.mass * self.TIMESTEP\n",
    "        self.y_vel += total_fy / self.mass * self.TIMESTEP\n",
    "\n",
    "        self.x += self.x_vel * self.TIMESTEP\n",
    "        self.y += self.y_vel * self.TIMESTEP\n",
    "        self.orbit.append((self.x, self.y))\n",
    "\n",
    "\n",
    "def main():\n",
    "    run = True\n",
    "    clock = pygame.time.Clock()\n",
    "\n",
    "    sun = Planet(0, 0, 30, YELLOW, 1.98892 * 10 ** 30)\n",
    "    sun.sun = True\n",
    "\n",
    "    earth = Planet(-1 * Planet.AU, 0, 16, BLUE, 5.9742 * 10 ** 24)\n",
    "    earth.y_vel = 29.783 * 1000\n",
    "\n",
    "    mars = Planet(-1.524 * Planet.AU, 0, 12, RED, 6.39 * 10 ** 23)\n",
    "    mars.y_vel = 24.077 * 1000\n",
    "\n",
    "    mercury = Planet(0.387 * Planet.AU, 0, 8, DARK_GREY, 3.30 * 10 ** 24)\n",
    "    mercury.y_vel = -47.4 * 1000\n",
    "\n",
    "    venus = Planet(0.723 * Planet.AU, 0, 14, WHITE, 4.865 * 10 ** 24)\n",
    "    venus.y_vel = -35.02 * 1000\n",
    "\n",
    "    planets = [sun, earth, mars, mercury, venus]\n",
    "\n",
    "    while run:\n",
    "        clock.tick(60)\n",
    "        WIN.fill((0, 0, 0))\n",
    "        \n",
    "        for event in pygame.event.get():\n",
    "            if event.type == pygame.QUIT:\n",
    "                run = False\n",
    "\n",
    "        for planet in planets:\n",
    "            planet.update_position(planets)\n",
    "            planet.draw(WIN)\n",
    "\n",
    "        pygame.display.update()\n",
    "\n",
    "    pygame.quit()\n",
    "\n",
    "\n",
    "main()\n"
   ],
   "outputs": [
    {
     "output_type": "stream",
     "name": "stdout",
     "text": [
      "pygame 2.1.2 (SDL 2.0.18, Python 3.8.8)\n",
      "Hello from the pygame community. https://www.pygame.org/contribute.html\n"
     ]
    }
   ],
   "metadata": {}
  },
  {
   "cell_type": "code",
   "execution_count": null,
   "source": [],
   "outputs": [],
   "metadata": {}
  }
 ],
 "metadata": {
  "kernelspec": {
   "display_name": "Python 3",
   "language": "python",
   "name": "python3"
  },
  "language_info": {
   "codemirror_mode": {
    "name": "ipython",
    "version": 3
   },
   "file_extension": ".py",
   "mimetype": "text/x-python",
   "name": "python",
   "nbconvert_exporter": "python",
   "pygments_lexer": "ipython3",
   "version": "3.8.8"
  }
 },
 "nbformat": 4,
 "nbformat_minor": 5
}